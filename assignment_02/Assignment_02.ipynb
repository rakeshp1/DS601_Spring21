{
  "nbformat": 4,
  "nbformat_minor": 0,
  "metadata": {
    "colab": {
      "name": "Assignment_02.ipynb",
      "provenance": [],
      "authorship_tag": "ABX9TyMJt+aAZ9bMXypkdhQo/Zbv",
      "include_colab_link": true
    },
    "kernelspec": {
      "name": "python3",
      "display_name": "Python 3"
    },
    "language_info": {
      "name": "python"
    }
  },
  "cells": [
    {
      "cell_type": "markdown",
      "metadata": {
        "id": "view-in-github",
        "colab_type": "text"
      },
      "source": [
        "<a href=\"https://colab.research.google.com/github/rakeshp1/DS601_Spring21/blob/main/assignment_02/Assignment_02.ipynb\" target=\"_parent\"><img src=\"https://colab.research.google.com/assets/colab-badge.svg\" alt=\"Open In Colab\"/></a>"
      ]
    },
    {
      "cell_type": "markdown",
      "metadata": {
        "id": "Ite4LbKY1g6j"
      },
      "source": [
        "# Assignment_02\n",
        "## 690 Fall 2021\n"
      ]
    },
    {
      "cell_type": "markdown",
      "metadata": {
        "id": "qCf3GYy-16eZ"
      },
      "source": [
        "## Code to enter 10 integers"
      ]
    },
    {
      "cell_type": "code",
      "metadata": {
        "colab": {
          "base_uri": "https://localhost:8080/"
        },
        "id": "4T5a0WI9lOes",
        "outputId": "26dfdefe-a30d-4320-f961-02a07cc3e3ca"
      },
      "source": [
        "x= []\n",
        "for i in range(0,10):\n",
        "  while True:\n",
        "      y= input(\"enter a integer:\")\n",
        "      try:\n",
        "        z = int(y)\n",
        "        x.append(z)\n",
        "        print(\"got integer\",y)\n",
        "        break\n",
        "      except:\n",
        "        print(\"You must enter an integer. try again.\")\n",
        "\n",
        "print( \"entered list:\", x)\n"
      ],
      "execution_count": 73,
      "outputs": [
        {
          "output_type": "stream",
          "name": "stdout",
          "text": [
            "enter a integer:12\n",
            "got integer 12\n",
            "enter a integer:34\n",
            "got integer 34\n",
            "enter a integer:56\n",
            "got integer 56\n",
            "enter a integer:\n",
            "You must enter an integer. try again.\n",
            "enter a integer:58\n",
            "got integer 58\n",
            "enter a integer:67\n",
            "got integer 67\n",
            "enter a integer:34\n",
            "got integer 34\n",
            "enter a integer:6\n",
            "got integer 6\n",
            "enter a integer:44\n",
            "got integer 44\n",
            "enter a integer:43\n",
            "got integer 43\n",
            "enter a integer:23\n",
            "got integer 23\n",
            "entered list: [12, 34, 56, 58, 67, 34, 6, 44, 43, 23]\n"
          ]
        }
      ]
    },
    {
      "cell_type": "markdown",
      "metadata": {
        "id": "SfVdtr_cnkg0"
      },
      "source": [
        "##1. Sum of the list"
      ]
    },
    {
      "cell_type": "code",
      "metadata": {
        "colab": {
          "base_uri": "https://localhost:8080/"
        },
        "id": "pHIVr4cPnoKq",
        "outputId": "9e085c8b-cc98-4aa5-ca42-80bba8248118"
      },
      "source": [
        "sum = 0\n",
        "\n",
        "for i in x:\n",
        "  sum+= i\n",
        "print(\"sum =\", sum)"
      ],
      "execution_count": 75,
      "outputs": [
        {
          "output_type": "stream",
          "name": "stdout",
          "text": [
            "sum = 377\n"
          ]
        }
      ]
    },
    {
      "cell_type": "markdown",
      "metadata": {
        "id": "lNfou2nXmdRN"
      },
      "source": [
        "## 2. Minimum value of the list."
      ]
    },
    {
      "cell_type": "code",
      "metadata": {
        "colab": {
          "base_uri": "https://localhost:8080/"
        },
        "id": "Lhqgu_qXl1Uv",
        "outputId": "e8fb58fb-0c5c-4702-8fd4-a266b95e85c7"
      },
      "source": [
        "min= x[0]\n",
        "for i in range(len(x)):\n",
        "    if x[i] < min:\n",
        "        min = x[i] \n",
        "print(\" Minimum value is: \",min)"
      ],
      "execution_count": 76,
      "outputs": [
        {
          "output_type": "stream",
          "name": "stdout",
          "text": [
            " Minimum value is:  6\n"
          ]
        }
      ]
    },
    {
      "cell_type": "markdown",
      "metadata": {
        "id": "xOZUXsH8mocn"
      },
      "source": [
        "## 3. Maximum value of the list."
      ]
    },
    {
      "cell_type": "code",
      "metadata": {
        "colab": {
          "base_uri": "https://localhost:8080/"
        },
        "id": "sawjQ4kWmrUg",
        "outputId": "415ce663-b10e-40b5-8e6d-9479247a7a9b"
      },
      "source": [
        "max=x[0]\n",
        "for i in range(len(x)):\n",
        "    if x[i] > max:\n",
        "        max = x[i] \n",
        "print(\"The Maximium value is: \",max)"
      ],
      "execution_count": 77,
      "outputs": [
        {
          "output_type": "stream",
          "name": "stdout",
          "text": [
            "The Maximium value is:  67\n"
          ]
        }
      ]
    },
    {
      "cell_type": "markdown",
      "metadata": {
        "id": "pZ4rFO9wm_vL"
      },
      "source": [
        "## 3. Range of the list."
      ]
    },
    {
      "cell_type": "code",
      "metadata": {
        "colab": {
          "base_uri": "https://localhost:8080/"
        },
        "id": "nEEYM_xInDbr",
        "outputId": "edd3f44f-983b-41ac-834f-4f0925addbfc"
      },
      "source": [
        "Range= max-min\n",
        "print(\"Range :\", Range)"
      ],
      "execution_count": 78,
      "outputs": [
        {
          "output_type": "stream",
          "name": "stdout",
          "text": [
            "Range : 61\n"
          ]
        }
      ]
    },
    {
      "cell_type": "markdown",
      "metadata": {
        "id": "twpiV0CToH-K"
      },
      "source": [
        "## 4. Mean value of the list."
      ]
    },
    {
      "cell_type": "code",
      "metadata": {
        "colab": {
          "base_uri": "https://localhost:8080/"
        },
        "id": "RiJxP7vCoLiB",
        "outputId": "4c71ef9c-31b4-4dd9-ac0d-a577e2582734"
      },
      "source": [
        "mean=sum/len(x)\n",
        "print(\"mean:\", mean)"
      ],
      "execution_count": 79,
      "outputs": [
        {
          "output_type": "stream",
          "name": "stdout",
          "text": [
            "mean: 37.7\n"
          ]
        }
      ]
    },
    {
      "cell_type": "markdown",
      "metadata": {
        "id": "v6-ImnaDoiwq"
      },
      "source": [
        "## 5. Variance value of the list."
      ]
    },
    {
      "cell_type": "code",
      "metadata": {
        "colab": {
          "base_uri": "https://localhost:8080/"
        },
        "id": "pf3KYUtponmE",
        "outputId": "1862a9a9-5db9-42cf-e683-2274ed3eac04"
      },
      "source": [
        "for i in range(len(x)):  \n",
        "  x[i] = x[i] - mean               \n",
        "for i in x:  \n",
        "  z = i**2                         \n",
        "sum = 0  \n",
        "for i in x:  \n",
        "  sum+=i*i;                      \n",
        "variance = sum/len(x)              \n",
        "print(\"variance is:\", variance)"
      ],
      "execution_count": 80,
      "outputs": [
        {
          "output_type": "stream",
          "name": "stdout",
          "text": [
            "variance is: 358.21000000000004\n"
          ]
        }
      ]
    },
    {
      "cell_type": "markdown",
      "metadata": {
        "id": "VX5Kv4o9z-bt"
      },
      "source": [
        "## 6.Standard deviation of the list\n"
      ]
    },
    {
      "cell_type": "code",
      "metadata": {
        "colab": {
          "base_uri": "https://localhost:8080/"
        },
        "id": "UeVHsZsm0JeF",
        "outputId": "d928fe17-eae6-411a-df23-bcbd52ed4b59"
      },
      "source": [
        "SD = variance ** 0.5  \n",
        "print('Standard deviation:', SD)\n"
      ],
      "execution_count": 81,
      "outputs": [
        {
          "output_type": "stream",
          "name": "stdout",
          "text": [
            "Standard deviation: 18.92643653728826\n"
          ]
        }
      ]
    },
    {
      "cell_type": "code",
      "metadata": {
        "id": "YcSzhCl60BiD"
      },
      "source": [
        ""
      ],
      "execution_count": 81,
      "outputs": []
    }
  ]
}