{
  "nbformat": 4,
  "nbformat_minor": 0,
  "metadata": {
    "colab": {
      "name": "in_session-practices_02.ipynb",
      "provenance": [],
      "authorship_tag": "ABX9TyM4noZ2PGm+tf52nGOlN59v",
      "include_colab_link": true
    },
    "kernelspec": {
      "name": "python3",
      "display_name": "Python 3"
    },
    "language_info": {
      "name": "python"
    }
  },
  "cells": [
    {
      "cell_type": "markdown",
      "metadata": {
        "id": "view-in-github",
        "colab_type": "text"
      },
      "source": [
        "<a href=\"https://colab.research.google.com/github/rakeshp1/DS601_Spring21/blob/main/assignment_02/in_session_practices_02.ipynb\" target=\"_parent\"><img src=\"https://colab.research.google.com/assets/colab-badge.svg\" alt=\"Open In Colab\"/></a>"
      ]
    },
    {
      "cell_type": "markdown",
      "metadata": {
        "id": "W3zBP279-o8r"
      },
      "source": [
        "# in-session hands on practice\n",
        "\n",
        "Rakesh"
      ]
    },
    {
      "cell_type": "markdown",
      "metadata": {
        "id": "rtTugaxo_u8F"
      },
      "source": [
        "1. Simple Types"
      ]
    },
    {
      "cell_type": "code",
      "metadata": {
        "colab": {
          "base_uri": "https://localhost:8080/"
        },
        "id": "KcGfYhjU-UjM",
        "outputId": "66fcf368-f872-4f3d-a9b1-fd34d5c84dde"
      },
      "source": [
        "x = 5     # integer\n",
        "y = 0.5   # float\n",
        "s = \"Hello\"    # string, a collection of characters\n",
        "print(x, y, s)\n"
      ],
      "execution_count": 21,
      "outputs": [
        {
          "output_type": "stream",
          "name": "stdout",
          "text": [
            "5 0.5 Hello\n"
          ]
        }
      ]
    },
    {
      "cell_type": "code",
      "metadata": {
        "colab": {
          "base_uri": "https://localhost:8080/"
        },
        "id": "QbQueMCBEiAn",
        "outputId": "767d51ad-4c06-4ea5-f87f-cb46ecd9bd25"
      },
      "source": [
        "type(x)"
      ],
      "execution_count": 22,
      "outputs": [
        {
          "output_type": "execute_result",
          "data": {
            "text/plain": [
              "int"
            ]
          },
          "metadata": {},
          "execution_count": 22
        }
      ]
    },
    {
      "cell_type": "code",
      "metadata": {
        "colab": {
          "base_uri": "https://localhost:8080/"
        },
        "id": "Up5bkTRgEl2z",
        "outputId": "6c35e949-0bd1-475c-acfb-d16b7ad9eaea"
      },
      "source": [
        "type(s)\n"
      ],
      "execution_count": 23,
      "outputs": [
        {
          "output_type": "execute_result",
          "data": {
            "text/plain": [
              "str"
            ]
          },
          "metadata": {},
          "execution_count": 23
        }
      ]
    },
    {
      "cell_type": "markdown",
      "metadata": {
        "id": "yTa-fG-a_nRd"
      },
      "source": [
        "## 2. Collection Type\n",
        "\n"
      ]
    },
    {
      "cell_type": "code",
      "metadata": {
        "colab": {
          "base_uri": "https://localhost:8080/"
        },
        "id": "6JdelxAS_srL",
        "outputId": "28e0c21d-9bba-4f5e-a692-e8947b79b87b"
      },
      "source": [
        "a_list = [1, 4, 7, 10] \n",
        "print(a_list)"
      ],
      "execution_count": 24,
      "outputs": [
        {
          "output_type": "stream",
          "name": "stdout",
          "text": [
            "[1, 4, 7, 10]\n"
          ]
        }
      ]
    },
    {
      "cell_type": "code",
      "metadata": {
        "colab": {
          "base_uri": "https://localhost:8080/"
        },
        "id": "IqQF5VSwAVPc",
        "outputId": "937761e8-a632-4b2d-f17c-6112e50b2b85"
      },
      "source": [
        "type(a_list)"
      ],
      "execution_count": 25,
      "outputs": [
        {
          "output_type": "execute_result",
          "data": {
            "text/plain": [
              "list"
            ]
          },
          "metadata": {},
          "execution_count": 25
        }
      ]
    },
    {
      "cell_type": "markdown",
      "metadata": {
        "id": "m9_LTW9jAgID"
      },
      "source": [
        "## 3. Loop"
      ]
    },
    {
      "cell_type": "code",
      "metadata": {
        "colab": {
          "base_uri": "https://localhost:8080/"
        },
        "id": "5AdSgEH1Ah7A",
        "outputId": "e6fe437b-ba6e-4a9a-b326-ce8baf380e7e"
      },
      "source": [
        "for i in a_list:\n",
        "    print(\"interger\", i)"
      ],
      "execution_count": 26,
      "outputs": [
        {
          "output_type": "stream",
          "name": "stdout",
          "text": [
            "interger 1\n",
            "interger 4\n",
            "interger 7\n",
            "interger 10\n"
          ]
        }
      ]
    },
    {
      "cell_type": "markdown",
      "metadata": {
        "id": "3xMZ1X05BknF"
      },
      "source": [
        "4. conditions"
      ]
    },
    {
      "cell_type": "code",
      "metadata": {
        "colab": {
          "base_uri": "https://localhost:8080/"
        },
        "id": "oEiXF0b2BnTQ",
        "outputId": "cad820b9-402b-4aee-842b-1c2651bea711"
      },
      "source": [
        "print(10 % 2) #modula"
      ],
      "execution_count": 13,
      "outputs": [
        {
          "output_type": "stream",
          "name": "stdout",
          "text": [
            "0\n"
          ]
        }
      ]
    },
    {
      "cell_type": "code",
      "metadata": {
        "colab": {
          "base_uri": "https://localhost:8080/"
        },
        "id": "DRRvN8ETCIkn",
        "outputId": "90d591e9-647e-43c4-e0c1-99cd8fdfb4d5"
      },
      "source": [
        "print(23%2) #modula"
      ],
      "execution_count": 16,
      "outputs": [
        {
          "output_type": "stream",
          "name": "stdout",
          "text": [
            "1\n"
          ]
        }
      ]
    },
    {
      "cell_type": "code",
      "metadata": {
        "colab": {
          "base_uri": "https://localhost:8080/"
        },
        "id": "pJP9DqheCTd4",
        "outputId": "93bd1b56-70aa-4b07-a024-a43f72afe745"
      },
      "source": [
        "for i in a_list:\n",
        "    if i % 2 == 1:\n",
        "        print(\"Odd number\", i)"
      ],
      "execution_count": 28,
      "outputs": [
        {
          "output_type": "stream",
          "name": "stdout",
          "text": [
            "Odd number 1\n",
            "Odd number 7\n"
          ]
        }
      ]
    }
  ]
}